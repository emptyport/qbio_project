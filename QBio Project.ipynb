{
 "cells": [
  {
   "cell_type": "markdown",
   "metadata": {},
   "source": [
    "# Quant Bio Project #2"
   ]
  },
  {
   "cell_type": "markdown",
   "metadata": {},
   "source": [
    "## Setup"
   ]
  },
  {
   "cell_type": "code",
   "execution_count": 5,
   "metadata": {},
   "outputs": [],
   "source": [
    "import pandas as pd\n",
    "import numpy as np\n",
    "import csv"
   ]
  },
  {
   "cell_type": "markdown",
   "metadata": {},
   "source": [
    "## Reading in the Data"
   ]
  },
  {
   "cell_type": "code",
   "execution_count": 15,
   "metadata": {},
   "outputs": [],
   "source": [
    "bin_mat = pd.read_csv('BinMat.csv', header=None)\n",
    "eval_mat = pd.read_csv('EvalMat.csv', header=None)"
   ]
  },
  {
   "cell_type": "code",
   "execution_count": 16,
   "metadata": {},
   "outputs": [],
   "source": [
    "# Matlab split each character in the gene names into a separate column,\n",
    "# so rather than try to deal with Matlab I am just going to read the\n",
    "# file as is and then put the gene name back together\n",
    "with open('gene_names.csv') as f:\n",
    "    reader = csv.reader(f)\n",
    "    raw_gene_names = list(reader)\n",
    "\n",
    "gene_names = []\n",
    "for gene in raw_gene_names:\n",
    "    gene_names.append(''.join(gene))"
   ]
  },
  {
   "cell_type": "code",
   "execution_count": 17,
   "metadata": {},
   "outputs": [],
   "source": [
    "# Same thing for the species names\n",
    "with open('species_rows.csv') as f:\n",
    "    reader = csv.reader(f)\n",
    "    raw_species_rows = list(reader)\n",
    "    \n",
    "species_rows = []\n",
    "for species in raw_species_rows:\n",
    "    species_rows.append(''.join(species))"
   ]
  },
  {
   "cell_type": "code",
   "execution_count": 20,
   "metadata": {},
   "outputs": [],
   "source": [
    "# Now we put the gene and species info with our\n",
    "# gene presence/absence data\n",
    "bin_mat.columns = gene_names\n",
    "eval_mat.columns = gene_names"
   ]
  },
  {
   "cell_type": "code",
   "execution_count": null,
   "metadata": {},
   "outputs": [],
   "source": []
  },
  {
   "cell_type": "code",
   "execution_count": null,
   "metadata": {},
   "outputs": [],
   "source": []
  }
 ],
 "metadata": {
  "kernelspec": {
   "display_name": "Python 2",
   "language": "python",
   "name": "python2"
  },
  "language_info": {
   "codemirror_mode": {
    "name": "ipython",
    "version": 2
   },
   "file_extension": ".py",
   "mimetype": "text/x-python",
   "name": "python",
   "nbconvert_exporter": "python",
   "pygments_lexer": "ipython2",
   "version": "2.7.12"
  }
 },
 "nbformat": 4,
 "nbformat_minor": 2
}
